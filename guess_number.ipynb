{
 "cells": [
  {
   "cell_type": "code",
   "execution_count": 1,
   "metadata": {},
   "outputs": [],
   "source": [
    "def guess(nu):\n",
    "    print(\"Your number should be between 1 through\",nu)\n",
    "    go_on=True #its declared true for the while loop \n",
    "    l=0 #lower value is set to 0\n",
    "    h=nu+1 #higher value is set to the max number + 1\n",
    "    i=0  # i keeps track of all the attempts it took to guess\n",
    "    while go_on:\n",
    "        i=i+1  # i is incremented with each guess\n",
    "        if h-l==2:\n",
    "            print(\"Your num is\", h-1)\n",
    "            break\n",
    "\n",
    "        num=int((h+l)/2)   #each guess is the mid point of the range (range is from l to h)\n",
    "        print(num, end=\" \")\n",
    "        state=input()\n",
    "\n",
    "        if state==\"h\":\n",
    "            h=num  #if guess is higher it shortens the range by making current guess the highest value of the range\n",
    "\n",
    "        elif state==\"l\":\n",
    "            l=num  #if guess is lower, it shortens the range by increasing the lowest value of the range\n",
    "\n",
    "        elif state==\"c\":\n",
    "            print(\"Your number is\",num)\n",
    "            break\n",
    "    return(i)"
   ]
  },
  {
   "cell_type": "code",
   "execution_count": null,
   "metadata": {},
   "outputs": [
    {
     "name": "stdout",
     "output_type": "stream",
     "text": [
      "You can choose a number from 1 to n, please choose n\n",
      "125\n",
      "Your number should be between 1 through 125\n",
      "63 h\n",
      "31 l\n",
      "47 l\n",
      "55 c\n",
      "Your number is 55\n",
      "It took me 4 guesses\n",
      "I averaged 4.0 gusses per game for 1 game(s)\n",
      "Would you like to play again y or n\n",
      "y\n",
      "Your number should be between 1 through 125\n",
      "63 l\n",
      "94 l\n",
      "110 h\n",
      "102 c\n",
      "Your number is 102\n",
      "It took me 4 guesses\n",
      "I averaged 4.0 gusses per game for 2 game(s)\n",
      "Would you like to play again y or n\n",
      "y\n",
      "Your number should be between 1 through 125\n",
      "63 h\n",
      "31 h\n",
      "15 h\n",
      "7 l\n",
      "11 c\n",
      "Your number is 11\n",
      "It took me 5 guesses\n",
      "I averaged 4.333333333333333 gusses per game for 3 game(s)\n",
      "Would you like to play again y or n\n"
     ]
    }
   ],
   "source": [
    "print(\"You can choose a number from 1 to n, please choose n\")\n",
    "nu=int(input()) #takes the n from the user\n",
    "flag='y' #keeps track of y or n to see if user wants to continue\n",
    "attempts=[] #records the number of guesses it took to guess each number\n",
    "while flag in ['Y','y'] :\n",
    "    x=int(guess(nu)) #calls the guess function which guesses the users number\n",
    "    attempts.append(x)\n",
    "    print(\"It took me\", attempts[-1],\"guesses\")\n",
    "    print(\"I averaged\",sum(attempts)/len(attempts),\"gusses per game for\",len(attempts),\"game(s)\")\n",
    "    print(\"Would you like to play again y or n\")\n",
    "    flag=input()"
   ]
  },
  {
   "cell_type": "code",
   "execution_count": null,
   "metadata": {},
   "outputs": [],
   "source": []
  }
 ],
 "metadata": {
  "kernelspec": {
   "display_name": "Python 3",
   "language": "python",
   "name": "python3"
  },
  "language_info": {
   "codemirror_mode": {
    "name": "ipython",
    "version": 3
   },
   "file_extension": ".py",
   "mimetype": "text/x-python",
   "name": "python",
   "nbconvert_exporter": "python",
   "pygments_lexer": "ipython3",
   "version": "3.6.5"
  }
 },
 "nbformat": 4,
 "nbformat_minor": 2
}
